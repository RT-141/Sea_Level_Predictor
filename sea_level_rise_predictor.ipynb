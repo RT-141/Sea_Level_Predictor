{
 "cells": [
  {
   "cell_type": "code",
   "execution_count": 5,
   "id": "df18c1cb-862d-422d-a392-9e5a50618681",
   "metadata": {
    "scrolled": true
   },
   "outputs": [
    {
     "ename": "ModuleNotFoundError",
     "evalue": "No module named 'scipy'",
     "output_type": "error",
     "traceback": [
      "\u001b[0;31m---------------------------------------------------------------------------\u001b[0m",
      "\u001b[0;31mModuleNotFoundError\u001b[0m                       Traceback (most recent call last)",
      "Cell \u001b[0;32mIn[5], line 3\u001b[0m\n\u001b[1;32m      1\u001b[0m \u001b[38;5;28;01mimport\u001b[39;00m \u001b[38;5;21;01mpandas\u001b[39;00m \u001b[38;5;28;01mas\u001b[39;00m \u001b[38;5;21;01mpd\u001b[39;00m\n\u001b[1;32m      2\u001b[0m \u001b[38;5;28;01mimport\u001b[39;00m \u001b[38;5;21;01mmatplotlib\u001b[39;00m\u001b[38;5;21;01m.\u001b[39;00m\u001b[38;5;21;01mpyplot\u001b[39;00m \u001b[38;5;28;01mas\u001b[39;00m \u001b[38;5;21;01mplt\u001b[39;00m\n\u001b[0;32m----> 3\u001b[0m \u001b[38;5;28;01mimport\u001b[39;00m \u001b[38;5;21;01mscipy\u001b[39;00m\u001b[38;5;21;01m.\u001b[39;00m\u001b[38;5;21;01mstats\u001b[39;00m\n\u001b[1;32m      4\u001b[0m \u001b[38;5;28;01mfrom\u001b[39;00m \u001b[38;5;21;01mscipy\u001b[39;00m\u001b[38;5;21;01m.\u001b[39;00m\u001b[38;5;21;01mstats\u001b[39;00m \u001b[38;5;28;01mimport\u001b[39;00m linregress\n\u001b[1;32m      6\u001b[0m \u001b[38;5;66;03m#Read the data\u001b[39;00m\n",
      "\u001b[0;31mModuleNotFoundError\u001b[0m: No module named 'scipy'"
     ]
    }
   ],
   "source": [
    "import pandas as pd\n",
    "import matplotlib.pyplot as plt\n",
    "from scipy.stats import linregress\n",
    "\n",
    "#Read the data\n",
    "df = pd.read_csv(\"epa-sea-level.csv\")\n",
    "\n",
    "\n",
    "#Create the scatter plot\n",
    "x = df[\"Year\"]\n",
    "y = df[\"CSIRO Adjusted Sea Level\"]\n",
    "\n",
    "fig, ax = plt.subplots(figsize = (12,12))\n",
    "ax = plt.scatter(x, y)\n",
    "\n",
    "\n",
    "#Create the first line of best fit\n",
    "\n",
    "reg = linregress(x, y)\n",
    "print(reg)\n",
    "x_forecast = pd.Series(([i for i in range (1880, 2051)]))\n",
    "y_forecast = reg_slope * x_forcast + reg.intercept\n",
    "plt.plot(x_forecast, y_forecast, \"r-\")\n",
    "\n",
    "df_forc = df_loc[df[\"Year\"] >= 2000]\n",
    "new_x = df_forc[\"Year\"]\n",
    "new_y = df_forc[\"CSIRO Adjusted Sea Level\"]\n",
    "\n",
    "\n",
    "#Create the second line of best fit\n",
    "new_reg = linregress(new_x, new_y)\n",
    "new_x_forecast = pd.Series(([i for i in range (2000, 2051)]))\n",
    "new_y_forecast = new_reg_slope * new_x_forcast + new_reg.intercept\n",
    "plt.plot(new_x_forecast, new_y_forecast, \"orange\")\n",
    "\n",
    "\n",
    "#Add labels and title\n",
    "plt.title(\"Rise in Sea Level\")\n",
    "plt.xlabel(\"Year\")\n",
    "plt.ylabel(\"Sea Level (inches)\")\n",
    "\n",
    "\n",
    "\n",
    "#Save plot and return data for testing (DO NOT MODIFY)\n",
    "plt.savefig(\"sea_level_plot.png\")\n",
    "return plt.gca\n"
   ]
  },
  {
   "cell_type": "code",
   "execution_count": null,
   "id": "c6b51bc0-1ae8-4fdf-80df-e89a48d843ed",
   "metadata": {},
   "outputs": [],
   "source": []
  }
 ],
 "metadata": {
  "kernelspec": {
   "display_name": "Python 3 (ipykernel)",
   "language": "python",
   "name": "python3"
  },
  "language_info": {
   "codemirror_mode": {
    "name": "ipython",
    "version": 3
   },
   "file_extension": ".py",
   "mimetype": "text/x-python",
   "name": "python",
   "nbconvert_exporter": "python",
   "pygments_lexer": "ipython3",
   "version": "3.11.4"
  }
 },
 "nbformat": 4,
 "nbformat_minor": 5
}
